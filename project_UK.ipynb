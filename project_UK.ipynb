{
 "cells": [
  {
   "cell_type": "markdown",
   "id": "69d9f9f6",
   "metadata": {},
   "source": [
    "### 1.Load data"
   ]
  },
  {
   "cell_type": "code",
   "execution_count": 14,
   "id": "9f0daa74",
   "metadata": {},
   "outputs": [
    {
     "name": "stdout",
     "output_type": "stream",
     "text": [
      "Processing ./python_dateutil-2.7.0-py2.py3-none-any.whl\n",
      "Requirement already satisfied: six>=1.5 in /Users/nothingsgoodb/opt/anaconda3/lib/python3.9/site-packages (from python-dateutil==2.7.0) (1.16.0)\n",
      "python-dateutil is already installed with the same version as the provided wheel. Use --force-reinstall to force an installation of the wheel.\n",
      "Note: you may need to restart the kernel to use updated packages.\n"
     ]
    }
   ],
   "source": [
    "pip install --user python_dateutil-2.7.0-py2.py3-none-any.whl"
   ]
  },
  {
   "cell_type": "code",
   "execution_count": 15,
   "id": "75f74a43",
   "metadata": {},
   "outputs": [],
   "source": [
    "# Importing all the necessary packages\n",
    "\n",
    "import pandas as pd\n",
    "import numpy as np\n",
    "import matplotlib.pyplot as plt\n",
    "import seaborn as sns\n",
    "from bokeh.plotting import figure\n",
    "from bokeh.io import show\n",
    "from matplotlib import rcParams"
   ]
  },
  {
   "cell_type": "code",
   "execution_count": 16,
   "id": "67f94fe5",
   "metadata": {},
   "outputs": [
    {
     "data": {
      "text/html": [
       "<div>\n",
       "<style scoped>\n",
       "    .dataframe tbody tr th:only-of-type {\n",
       "        vertical-align: middle;\n",
       "    }\n",
       "\n",
       "    .dataframe tbody tr th {\n",
       "        vertical-align: top;\n",
       "    }\n",
       "\n",
       "    .dataframe thead th {\n",
       "        text-align: right;\n",
       "    }\n",
       "</style>\n",
       "<table border=\"1\" class=\"dataframe\">\n",
       "  <thead>\n",
       "    <tr style=\"text-align: right;\">\n",
       "      <th></th>\n",
       "      <th>Time</th>\n",
       "      <th>Date</th>\n",
       "      <th>FTSE100</th>\n",
       "      <th>FTSE_growth</th>\n",
       "      <th>GDP_growth</th>\n",
       "    </tr>\n",
       "  </thead>\n",
       "  <tbody>\n",
       "    <tr>\n",
       "      <th>0</th>\n",
       "      <td>Q1_2009</td>\n",
       "      <td>2009-03-31</td>\n",
       "      <td>4033.764444</td>\n",
       "      <td>NaN</td>\n",
       "      <td>-2.2</td>\n",
       "    </tr>\n",
       "    <tr>\n",
       "      <th>1</th>\n",
       "      <td>Q2_2009</td>\n",
       "      <td>2009-06-30</td>\n",
       "      <td>4263.800820</td>\n",
       "      <td>2.408638</td>\n",
       "      <td>0.3</td>\n",
       "    </tr>\n",
       "    <tr>\n",
       "      <th>2</th>\n",
       "      <td>Q3_2009</td>\n",
       "      <td>2009-09-30</td>\n",
       "      <td>4714.689231</td>\n",
       "      <td>4.365616</td>\n",
       "      <td>0.8</td>\n",
       "    </tr>\n",
       "    <tr>\n",
       "      <th>3</th>\n",
       "      <td>Q4_2009</td>\n",
       "      <td>2009-12-31</td>\n",
       "      <td>5236.469531</td>\n",
       "      <td>4.558551</td>\n",
       "      <td>-0.5</td>\n",
       "    </tr>\n",
       "    <tr>\n",
       "      <th>4</th>\n",
       "      <td>Q1_2010</td>\n",
       "      <td>2010-03-31</td>\n",
       "      <td>5431.032698</td>\n",
       "      <td>1.584384</td>\n",
       "      <td>1.6</td>\n",
       "    </tr>\n",
       "  </tbody>\n",
       "</table>\n",
       "</div>"
      ],
      "text/plain": [
       "      Time       Date      FTSE100  FTSE_growth  GDP_growth\n",
       "0  Q1_2009 2009-03-31  4033.764444          NaN        -2.2\n",
       "1  Q2_2009 2009-06-30  4263.800820     2.408638         0.3\n",
       "2  Q3_2009 2009-09-30  4714.689231     4.365616         0.8\n",
       "3  Q4_2009 2009-12-31  5236.469531     4.558551        -0.5\n",
       "4  Q1_2010 2010-03-31  5431.032698     1.584384         1.6"
      ]
     },
     "execution_count": 16,
     "metadata": {},
     "output_type": "execute_result"
    }
   ],
   "source": [
    "# Read the data from excel file \"data\"\n",
    "df= pd.read_excel(\"data.xls\")\n",
    "#print initial row of dataset\n",
    "df.head()\n"
   ]
  },
  {
   "cell_type": "code",
   "execution_count": 17,
   "id": "48b07d59",
   "metadata": {},
   "outputs": [
    {
     "data": {
      "text/plain": [
       "(52, 5)"
      ]
     },
     "execution_count": 17,
     "metadata": {},
     "output_type": "execute_result"
    }
   ],
   "source": [
    "#dimension of dataframe\n",
    "df.shape"
   ]
  },
  {
   "cell_type": "markdown",
   "id": "b94e5cea",
   "metadata": {},
   "source": [
    "there are 52 rows and 4 collums"
   ]
  },
  {
   "cell_type": "code",
   "execution_count": 18,
   "id": "c41669de",
   "metadata": {
    "scrolled": true
   },
   "outputs": [
    {
     "name": "stdout",
     "output_type": "stream",
     "text": [
      "<class 'pandas.core.frame.DataFrame'>\n",
      "RangeIndex: 52 entries, 0 to 51\n",
      "Data columns (total 5 columns):\n",
      " #   Column       Non-Null Count  Dtype         \n",
      "---  ------       --------------  -----         \n",
      " 0   Time         52 non-null     object        \n",
      " 1   Date         52 non-null     datetime64[ns]\n",
      " 2   FTSE100      52 non-null     float64       \n",
      " 3   FTSE_growth  51 non-null     float64       \n",
      " 4   GDP_growth   51 non-null     float64       \n",
      "dtypes: datetime64[ns](1), float64(3), object(1)\n",
      "memory usage: 2.2+ KB\n"
     ]
    }
   ],
   "source": [
    "#information about dataframe\n",
    "df.info()"
   ]
  },
  {
   "cell_type": "markdown",
   "id": "3ce93d93",
   "metadata": {},
   "source": [
    "There are 1 missing data in FTSE growth and 1 in GDP growth. These rows need to be eliminated"
   ]
  },
  {
   "cell_type": "code",
   "execution_count": 19,
   "id": "058c930a",
   "metadata": {},
   "outputs": [
    {
     "data": {
      "text/html": [
       "<div>\n",
       "<style scoped>\n",
       "    .dataframe tbody tr th:only-of-type {\n",
       "        vertical-align: middle;\n",
       "    }\n",
       "\n",
       "    .dataframe tbody tr th {\n",
       "        vertical-align: top;\n",
       "    }\n",
       "\n",
       "    .dataframe thead th {\n",
       "        text-align: right;\n",
       "    }\n",
       "</style>\n",
       "<table border=\"1\" class=\"dataframe\">\n",
       "  <thead>\n",
       "    <tr style=\"text-align: right;\">\n",
       "      <th></th>\n",
       "      <th>Time</th>\n",
       "      <th>FTSE100</th>\n",
       "      <th>FTSE_growth</th>\n",
       "      <th>GDP_growth</th>\n",
       "    </tr>\n",
       "    <tr>\n",
       "      <th>Date</th>\n",
       "      <th></th>\n",
       "      <th></th>\n",
       "      <th></th>\n",
       "      <th></th>\n",
       "    </tr>\n",
       "  </thead>\n",
       "  <tbody>\n",
       "    <tr>\n",
       "      <th>2009-03-31</th>\n",
       "      <td>Q1_2009</td>\n",
       "      <td>4033.764444</td>\n",
       "      <td>NaN</td>\n",
       "      <td>-2.2</td>\n",
       "    </tr>\n",
       "    <tr>\n",
       "      <th>2009-06-30</th>\n",
       "      <td>Q2_2009</td>\n",
       "      <td>4263.800820</td>\n",
       "      <td>2.408638</td>\n",
       "      <td>0.3</td>\n",
       "    </tr>\n",
       "    <tr>\n",
       "      <th>2009-09-30</th>\n",
       "      <td>Q3_2009</td>\n",
       "      <td>4714.689231</td>\n",
       "      <td>4.365616</td>\n",
       "      <td>0.8</td>\n",
       "    </tr>\n",
       "    <tr>\n",
       "      <th>2009-12-31</th>\n",
       "      <td>Q4_2009</td>\n",
       "      <td>5236.469531</td>\n",
       "      <td>4.558551</td>\n",
       "      <td>-0.5</td>\n",
       "    </tr>\n",
       "    <tr>\n",
       "      <th>2010-03-31</th>\n",
       "      <td>Q1_2010</td>\n",
       "      <td>5431.032698</td>\n",
       "      <td>1.584384</td>\n",
       "      <td>1.6</td>\n",
       "    </tr>\n",
       "  </tbody>\n",
       "</table>\n",
       "</div>"
      ],
      "text/plain": [
       "               Time      FTSE100  FTSE_growth  GDP_growth\n",
       "Date                                                     \n",
       "2009-03-31  Q1_2009  4033.764444          NaN        -2.2\n",
       "2009-06-30  Q2_2009  4263.800820     2.408638         0.3\n",
       "2009-09-30  Q3_2009  4714.689231     4.365616         0.8\n",
       "2009-12-31  Q4_2009  5236.469531     4.558551        -0.5\n",
       "2010-03-31  Q1_2010  5431.032698     1.584384         1.6"
      ]
     },
     "execution_count": 19,
     "metadata": {},
     "output_type": "execute_result"
    }
   ],
   "source": [
    "#convert date to timestamp\n",
    "df['Date'] = pd.to_datetime(df['Date'])\n",
    "df.set_index(\"Date\", inplace = True)\n",
    "\n",
    "# Displaying first 5 rows of \"data\" DataFrame\n",
    "df.head()\n"
   ]
  },
  {
   "cell_type": "markdown",
   "id": "62b51e1a",
   "metadata": {},
   "source": [
    "### 2.Exploratory data analysis"
   ]
  },
  {
   "cell_type": "markdown",
   "id": "16a7494f",
   "metadata": {},
   "source": [
    "### 2.1 Data cleaning"
   ]
  },
  {
   "cell_type": "code",
   "execution_count": 20,
   "id": "d3f2ad6b",
   "metadata": {},
   "outputs": [
    {
     "name": "stdout",
     "output_type": "stream",
     "text": [
      "<class 'pandas.core.frame.DataFrame'>\n",
      "DatetimeIndex: 50 entries, 2009-06-30 to 2021-09-30\n",
      "Data columns (total 4 columns):\n",
      " #   Column       Non-Null Count  Dtype  \n",
      "---  ------       --------------  -----  \n",
      " 0   Time         50 non-null     object \n",
      " 1   FTSE100      50 non-null     float64\n",
      " 2   FTSE_growth  50 non-null     float64\n",
      " 3   GDP_growth   50 non-null     float64\n",
      "dtypes: float64(3), object(1)\n",
      "memory usage: 2.0+ KB\n"
     ]
    }
   ],
   "source": [
    "#drop null values\n",
    "df1 =df.dropna()\n",
    "df1.info()\n"
   ]
  },
  {
   "cell_type": "code",
   "execution_count": 21,
   "id": "2c3a09ef",
   "metadata": {},
   "outputs": [
    {
     "data": {
      "text/html": [
       "<div>\n",
       "<style scoped>\n",
       "    .dataframe tbody tr th:only-of-type {\n",
       "        vertical-align: middle;\n",
       "    }\n",
       "\n",
       "    .dataframe tbody tr th {\n",
       "        vertical-align: top;\n",
       "    }\n",
       "\n",
       "    .dataframe thead th {\n",
       "        text-align: right;\n",
       "    }\n",
       "</style>\n",
       "<table border=\"1\" class=\"dataframe\">\n",
       "  <thead>\n",
       "    <tr style=\"text-align: right;\">\n",
       "      <th></th>\n",
       "      <th>Time</th>\n",
       "      <th>FTSE100</th>\n",
       "      <th>FTSE_growth</th>\n",
       "      <th>GDP_growth</th>\n",
       "    </tr>\n",
       "    <tr>\n",
       "      <th>Date</th>\n",
       "      <th></th>\n",
       "      <th></th>\n",
       "      <th></th>\n",
       "      <th></th>\n",
       "    </tr>\n",
       "  </thead>\n",
       "  <tbody>\n",
       "    <tr>\n",
       "      <th>2009-06-30</th>\n",
       "      <td>Q2_2009</td>\n",
       "      <td>4263.800820</td>\n",
       "      <td>2.408638</td>\n",
       "      <td>0.3</td>\n",
       "    </tr>\n",
       "    <tr>\n",
       "      <th>2009-09-30</th>\n",
       "      <td>Q3_2009</td>\n",
       "      <td>4714.689231</td>\n",
       "      <td>4.365616</td>\n",
       "      <td>0.8</td>\n",
       "    </tr>\n",
       "    <tr>\n",
       "      <th>2009-12-31</th>\n",
       "      <td>Q4_2009</td>\n",
       "      <td>5236.469531</td>\n",
       "      <td>4.558551</td>\n",
       "      <td>-0.5</td>\n",
       "    </tr>\n",
       "    <tr>\n",
       "      <th>2010-03-31</th>\n",
       "      <td>Q1_2010</td>\n",
       "      <td>5431.032698</td>\n",
       "      <td>1.584384</td>\n",
       "      <td>1.6</td>\n",
       "    </tr>\n",
       "    <tr>\n",
       "      <th>2010-06-30</th>\n",
       "      <td>Q2_2010</td>\n",
       "      <td>5356.017377</td>\n",
       "      <td>-0.604044</td>\n",
       "      <td>1.7</td>\n",
       "    </tr>\n",
       "  </tbody>\n",
       "</table>\n",
       "</div>"
      ],
      "text/plain": [
       "               Time      FTSE100  FTSE_growth  GDP_growth\n",
       "Date                                                     \n",
       "2009-06-30  Q2_2009  4263.800820     2.408638         0.3\n",
       "2009-09-30  Q3_2009  4714.689231     4.365616         0.8\n",
       "2009-12-31  Q4_2009  5236.469531     4.558551        -0.5\n",
       "2010-03-31  Q1_2010  5431.032698     1.584384         1.6\n",
       "2010-06-30  Q2_2010  5356.017377    -0.604044         1.7"
      ]
     },
     "execution_count": 21,
     "metadata": {},
     "output_type": "execute_result"
    }
   ],
   "source": [
    "df1.head()"
   ]
  },
  {
   "cell_type": "code",
   "execution_count": 22,
   "id": "a4c65786",
   "metadata": {},
   "outputs": [
    {
     "name": "stderr",
     "output_type": "stream",
     "text": [
      "/var/folders/y0/_1dwc0_92297kxbll1_zhl980000gn/T/ipykernel_1796/2248262503.py:2: FutureWarning: In a future version of pandas all arguments of DataFrame.drop except for the argument 'labels' will be keyword-only\n",
      "  df1= df1.drop(['Time', 'FTSE100'], 1)\n"
     ]
    },
    {
     "data": {
      "text/html": [
       "<div>\n",
       "<style scoped>\n",
       "    .dataframe tbody tr th:only-of-type {\n",
       "        vertical-align: middle;\n",
       "    }\n",
       "\n",
       "    .dataframe tbody tr th {\n",
       "        vertical-align: top;\n",
       "    }\n",
       "\n",
       "    .dataframe thead th {\n",
       "        text-align: right;\n",
       "    }\n",
       "</style>\n",
       "<table border=\"1\" class=\"dataframe\">\n",
       "  <thead>\n",
       "    <tr style=\"text-align: right;\">\n",
       "      <th></th>\n",
       "      <th>FTSE_growth</th>\n",
       "      <th>GDP_growth</th>\n",
       "    </tr>\n",
       "    <tr>\n",
       "      <th>Date</th>\n",
       "      <th></th>\n",
       "      <th></th>\n",
       "    </tr>\n",
       "  </thead>\n",
       "  <tbody>\n",
       "    <tr>\n",
       "      <th>2009-06-30</th>\n",
       "      <td>2.4</td>\n",
       "      <td>0.3</td>\n",
       "    </tr>\n",
       "    <tr>\n",
       "      <th>2009-09-30</th>\n",
       "      <td>4.4</td>\n",
       "      <td>0.8</td>\n",
       "    </tr>\n",
       "    <tr>\n",
       "      <th>2009-12-31</th>\n",
       "      <td>4.6</td>\n",
       "      <td>-0.5</td>\n",
       "    </tr>\n",
       "    <tr>\n",
       "      <th>2010-03-31</th>\n",
       "      <td>1.6</td>\n",
       "      <td>1.6</td>\n",
       "    </tr>\n",
       "    <tr>\n",
       "      <th>2010-06-30</th>\n",
       "      <td>-0.6</td>\n",
       "      <td>1.7</td>\n",
       "    </tr>\n",
       "  </tbody>\n",
       "</table>\n",
       "</div>"
      ],
      "text/plain": [
       "            FTSE_growth  GDP_growth\n",
       "Date                               \n",
       "2009-06-30          2.4         0.3\n",
       "2009-09-30          4.4         0.8\n",
       "2009-12-31          4.6        -0.5\n",
       "2010-03-31          1.6         1.6\n",
       "2010-06-30         -0.6         1.7"
      ]
     },
     "execution_count": 22,
     "metadata": {},
     "output_type": "execute_result"
    }
   ],
   "source": [
    "#drop FTSE100 price and time columns\n",
    "df1= df1.drop(['Time', 'FTSE100'], 1)\n",
    "df1 =df1.round(decimals=1)     #round up to 1 d.p \n",
    "df1.head()\n",
    "\n",
    "\n",
    "\n"
   ]
  },
  {
   "cell_type": "markdown",
   "id": "15c06d65",
   "metadata": {},
   "source": [
    "### 2.2 Descriptive statistic"
   ]
  },
  {
   "cell_type": "code",
   "execution_count": 23,
   "id": "e5a76639",
   "metadata": {},
   "outputs": [
    {
     "data": {
      "text/html": [
       "<div>\n",
       "<style scoped>\n",
       "    .dataframe tbody tr th:only-of-type {\n",
       "        vertical-align: middle;\n",
       "    }\n",
       "\n",
       "    .dataframe tbody tr th {\n",
       "        vertical-align: top;\n",
       "    }\n",
       "\n",
       "    .dataframe thead th {\n",
       "        text-align: right;\n",
       "    }\n",
       "</style>\n",
       "<table border=\"1\" class=\"dataframe\">\n",
       "  <thead>\n",
       "    <tr style=\"text-align: right;\">\n",
       "      <th></th>\n",
       "      <th>FTSE_growth</th>\n",
       "      <th>GDP_growth</th>\n",
       "    </tr>\n",
       "  </thead>\n",
       "  <tbody>\n",
       "    <tr>\n",
       "      <th>count</th>\n",
       "      <td>50.000000</td>\n",
       "      <td>50.000000</td>\n",
       "    </tr>\n",
       "    <tr>\n",
       "      <th>mean</th>\n",
       "      <td>0.480000</td>\n",
       "      <td>0.870000</td>\n",
       "    </tr>\n",
       "    <tr>\n",
       "      <th>std</th>\n",
       "      <td>2.083463</td>\n",
       "      <td>2.649625</td>\n",
       "    </tr>\n",
       "    <tr>\n",
       "      <th>min</th>\n",
       "      <td>-5.900000</td>\n",
       "      <td>-13.100000</td>\n",
       "    </tr>\n",
       "    <tr>\n",
       "      <th>25%</th>\n",
       "      <td>-0.300000</td>\n",
       "      <td>0.600000</td>\n",
       "    </tr>\n",
       "    <tr>\n",
       "      <th>50%</th>\n",
       "      <td>0.550000</td>\n",
       "      <td>0.900000</td>\n",
       "    </tr>\n",
       "    <tr>\n",
       "      <th>75%</th>\n",
       "      <td>1.575000</td>\n",
       "      <td>1.400000</td>\n",
       "    </tr>\n",
       "    <tr>\n",
       "      <th>max</th>\n",
       "      <td>4.600000</td>\n",
       "      <td>11.900000</td>\n",
       "    </tr>\n",
       "  </tbody>\n",
       "</table>\n",
       "</div>"
      ],
      "text/plain": [
       "       FTSE_growth  GDP_growth\n",
       "count    50.000000   50.000000\n",
       "mean      0.480000    0.870000\n",
       "std       2.083463    2.649625\n",
       "min      -5.900000  -13.100000\n",
       "25%      -0.300000    0.600000\n",
       "50%       0.550000    0.900000\n",
       "75%       1.575000    1.400000\n",
       "max       4.600000   11.900000"
      ]
     },
     "execution_count": 23,
     "metadata": {},
     "output_type": "execute_result"
    }
   ],
   "source": [
    "df1.describe()"
   ]
  },
  {
   "cell_type": "markdown",
   "id": "26d230df",
   "metadata": {},
   "source": [
    "### 2.3. Univariate analysis\n",
    "\n",
    "##### Distribution of variables"
   ]
  },
  {
   "cell_type": "code",
   "execution_count": 24,
   "id": "4a7b683c",
   "metadata": {},
   "outputs": [
    {
     "name": "stderr",
     "output_type": "stream",
     "text": [
      "/Users/nothingsgoodb/opt/anaconda3/lib/python3.9/site-packages/seaborn/distributions.py:2619: FutureWarning: `distplot` is a deprecated function and will be removed in a future version. Please adapt your code to use either `displot` (a figure-level function with similar flexibility) or `histplot` (an axes-level function for histograms).\n",
      "  warnings.warn(msg, FutureWarning)\n",
      "/Users/nothingsgoodb/opt/anaconda3/lib/python3.9/site-packages/seaborn/distributions.py:2619: FutureWarning: `distplot` is a deprecated function and will be removed in a future version. Please adapt your code to use either `displot` (a figure-level function with similar flexibility) or `histplot` (an axes-level function for histograms).\n",
      "  warnings.warn(msg, FutureWarning)\n"
     ]
    },
    {
     "data": {
      "image/png": "[encoded data removed]",
      "text/plain": [
       "<Figure size 1296x864 with 2 Axes>"
      ]
     },
     "metadata": {
      "needs_background": "light"
     },
     "output_type": "display_data"
    }
   ],
   "source": [
    "# Distribution of continuous variables \n",
    "\n",
    "# Setting the figure size\n",
    "plt.rcParams[\"figure.figsize\"] = 18, 12\n",
    "\n",
    "# Defining 2 subplots one below the other\n",
    "fig, axes = plt.subplots(2, 1)\n",
    "\n",
    "# Plotting the distributions in the respective subplots\n",
    "sns.distplot(df1['FTSE_growth'], ax = axes[0])\n",
    "sns.distplot(df1['GDP_growth'], ax = axes[1])\n",
    "\n",
    "# Setting the title for each subplot\n",
    "axes[0].set_title(\"FTSE growth\", size = 24)\n",
    "axes[1].set_title(\"GDP growth\", size = 24)\n",
    "\n",
    "\n",
    "# Displaying the plot\n",
    "plt.show()"
   ]
  },
  {
   "cell_type": "markdown",
   "id": "0cfb8361",
   "metadata": {},
   "source": [
    "It can be seen both distributions are not normal. In fact they are slightly right-skewed. Therefore, the use of transer entrophy will be more suitable than G-causality"
   ]
  },
  {
   "cell_type": "code",
   "execution_count": 25,
   "id": "75e94f57",
   "metadata": {
    "scrolled": true
   },
   "outputs": [
    {
     "data": {
      "image/png": "[encoded data removed]",
      "text/plain": [
       "<Figure size 1440x4320 with 2 Axes>"
      ]
     },
     "metadata": {
      "needs_background": "light"
     },
     "output_type": "display_data"
    }
   ],
   "source": [
    "# outliers detection in numerical columns\n",
    "num_features = [num for num, dtype in df1.dtypes.items() if dtype == 'int64' or dtype == 'float64']\n",
    "\n",
    "# Box plot of all continuous variable\n",
    "plt.figure(figsize=(20,60))\n",
    "plotnumber =1\n",
    "for num_feature in num_features:\n",
    "    ax = plt.subplot(12,3,plotnumber)\n",
    "    sns.boxplot(data = df, x = num_feature, palette='pastel')\n",
    "    plt.xlabel(num_feature)\n",
    "    plotnumber+=1\n",
    "plt.show()"
   ]
  },
  {
   "cell_type": "markdown",
   "id": "045537b0",
   "metadata": {},
   "source": [
    "both of series have outliers. It's worth keeping them for further analysis\n"
   ]
  },
  {
   "cell_type": "code",
   "execution_count": 26,
   "id": "840f4d5a",
   "metadata": {
    "scrolled": true
   },
   "outputs": [
    {
     "data": {
      "text/plain": [
       "<matplotlib.legend.Legend at 0x7f8195476b50>"
      ]
     },
     "execution_count": 26,
     "metadata": {},
     "output_type": "execute_result"
    },
    {
     "data": {
      "image/png": "[encoded data removed]",
      "text/plain": [
       "<Figure size 1296x360 with 2 Axes>"
      ]
     },
     "metadata": {
      "needs_background": "light"
     },
     "output_type": "display_data"
    }
   ],
   "source": [
    "# Setting the figure size \n",
    "plt.rcParams[\"figure.figsize\"] = (18, 5)\n",
    "\n",
    "# Subdividing the figure into 32figures stacked in 1 row\n",
    "fig, ax = plt.subplots(1, 2)\n",
    "\n",
    "# First Plot - FTSE growth against time\n",
    "ax[0].plot(df1['FTSE_growth'], color = \"blue\", label = \"FTSE growth\")\n",
    "ax[0].set_title(\"FTSEgrowth\", size = 24)\n",
    "ax[0].legend()\n",
    "# Second Plot - GDP growth against time\n",
    "ax[1].plot(df1['GDP_growth'], color = \"blue\", label = \"GPD growth\")\n",
    "ax[1].set_title(\"GDP growth\", size = 24)\n",
    "ax[1].legend()"
   ]
  },
  {
   "cell_type": "markdown",
   "id": "0dc9870f",
   "metadata": {},
   "source": [
    "Both seires fluctuates over the time and do not shows any clear upward or downward trend.\n",
    "GDP growth  growth seems to stay stable despite a spike in mid 2020-2021.\n",
    "\n",
    "FTSEgrowth, however, seems to shows to shows sign of periodic cycles. To be specific, the bottom points tend to falls\n",
    "toward end of year 2012,2016 and then start of 2020 while the market reach its peak growth at 2010,2013, mid 2016 and mid 2019.\n",
    "\n",
    "It's worth noting that start of 2020 where there is a deep strike in both  series is also the time the global pandemic\n",
    "Covid -19  prevails, which is an important event that severely affect any economy and stock market."
   ]
  },
  {
   "cell_type": "markdown",
   "id": "c45d0bc6",
   "metadata": {},
   "source": [
    "### 2.4. Stationary test"
   ]
  },
  {
   "cell_type": "markdown",
   "id": "ffd3fe47",
   "metadata": {},
   "source": [
    "Only in a stationary series, we can be sure of the fact that the underlying distribution of the data will not change in future. "
   ]
  },
  {
   "cell_type": "markdown",
   "id": "d630c889",
   "metadata": {},
   "source": [
    "The  Augmented-Dickey Fuller (ADF) Test is used to check the stationarity of a series. \n",
    "\n",
    "The test has the following 2 hypothesis:\n",
    "\n",
    "Null Hypothesis (H0): Series has a unit root, or it is not stationary.\n",
    "\n",
    "Alternate Hypothesis (H1): Series has no unit root, or it is stationary.\n",
    "\n",
    "    \n",
    "If the p-value of the statistic is less than the confidence levels 5% (0.05),  \n",
    "then the Null Hypothesis is rejected and we could conclude that the series is stationary."
   ]
  },
  {
   "cell_type": "code",
   "execution_count": 92,
   "id": "4e40650a",
   "metadata": {},
   "outputs": [
    {
     "data": {
      "text/plain": [
       "(-5.065889335732805,\n",
       " 1.6410581209957058e-05,\n",
       " 0,\n",
       " 49,\n",
       " {'1%': -3.5714715250448363,\n",
       "  '5%': -2.922629480573571,\n",
       "  '10%': -2.5993358475635153},\n",
       " 159.12452191407635)"
      ]
     },
     "execution_count": 92,
     "metadata": {},
     "output_type": "execute_result"
    }
   ],
   "source": [
    "# Importing the necessary package\n",
    "from statsmodels.tsa.stattools import adfuller\n",
    "\n",
    "# ADF test in FTSE growth\n",
    "adfuller(df1['FTSE_growth'])\n",
    "\n",
    "\n"
   ]
  },
  {
   "cell_type": "markdown",
   "id": "d31e4c7d",
   "metadata": {},
   "source": [
    "-t-stat value is -5.0659 (rounded to 4 d.p)\n",
    "\n",
    "-p-value js 1.6411 \n",
    "\n",
    "-number of lag used: 0\n",
    "\n",
    "-number of observation: 49\n",
    "\n",
    "The dictionary shows statistic value at each confidence level. \n",
    "\n",
    "It can be seen that p-value (1.6410581209957058e-05) is close to zero and smaller than critcal value (0.05). Thus we could reject the null hypothesis\n",
    "\n",
    "The FTSE_growth series is stationary."
   ]
  },
  {
   "cell_type": "code",
   "execution_count": 61,
   "id": "1217f917",
   "metadata": {},
   "outputs": [
    {
     "ename": "NameError",
     "evalue": "name 'adfuller' is not defined",
     "output_type": "error",
     "traceback": [
      "\u001b[0;31m---------------------------------------------------------------------------\u001b[0m",
      "\u001b[0;31mNameError\u001b[0m                                 Traceback (most recent call last)",
      "\u001b[0;32m/var/folders/y0/_1dwc0_92297kxbll1_zhl980000gn/T/ipykernel_1796/1538789469.py\u001b[0m in \u001b[0;36m<module>\u001b[0;34m\u001b[0m\n\u001b[1;32m      1\u001b[0m \u001b[0;31m# ADF Test on GDP growth\u001b[0m\u001b[0;34m\u001b[0m\u001b[0;34m\u001b[0m\u001b[0m\n\u001b[0;32m----> 2\u001b[0;31m \u001b[0madfuller\u001b[0m\u001b[0;34m(\u001b[0m\u001b[0mdf1\u001b[0m\u001b[0;34m[\u001b[0m\u001b[0;34m'GDP_growth'\u001b[0m\u001b[0;34m]\u001b[0m\u001b[0;34m[\u001b[0m\u001b[0;36m1\u001b[0m\u001b[0;34m:\u001b[0m\u001b[0;34m]\u001b[0m\u001b[0;34m)\u001b[0m\u001b[0;34m\u001b[0m\u001b[0;34m\u001b[0m\u001b[0m\n\u001b[0m",
      "\u001b[0;31mNameError\u001b[0m: name 'adfuller' is not defined"
     ]
    }
   ],
   "source": [
    "# ADF Test on GDP growth\n",
    "adfuller(df1['GDP_growth'][1:])"
   ]
  },
  {
   "cell_type": "markdown",
   "id": "4385270a",
   "metadata": {},
   "source": [
    "Similarly, as the p-value( 5.841794809195266e-17) is smaller than 0.05.. \n",
    "\n",
    "Therefore the null hypothesis could be rejected. \n",
    "\n",
    "The GDP_growth series is stationary.\n"
   ]
  },
  {
   "cell_type": "markdown",
   "id": "b95f391d",
   "metadata": {},
   "source": [
    "### 2.5. Cointegration test -Johansen test"
   ]
  },
  {
   "cell_type": "markdown",
   "id": "9f5d2430",
   "metadata": {},
   "source": [
    "To test for conitegration between time series, Johansen test is implemented. \n",
    "In the Johansen test, lambda is checked whether it has a zero eigenvalue. When all the eigenvalues are zero, that would mean that the series are not cointegrated, whereas when some of the eigenvalues contain negative values, it would imply that a linear combination of the time series can be created, which would result in stationarity."
   ]
  },
  {
   "cell_type": "code",
   "execution_count": 98,
   "id": "7e80a4f2",
   "metadata": {},
   "outputs": [],
   "source": [
    "#define johansen function. \n",
    "#This function developed by James LeSage at the Department of Economics, University of Toledo\n",
    "\n",
    "import numpy as np\n",
    "from numpy import zeros, ones, flipud, log\n",
    "from numpy.linalg import inv, eig, cholesky as chol\n",
    "from statsmodels.regression.linear_model import OLS\n",
    "\n",
    "\n",
    "tdiff = np.diff\n",
    "\n",
    "class Holder(object):\n",
    "    pass\n",
    "\n",
    "def rows(x):\n",
    "    return x.shape[0]\n",
    "\n",
    "def trimr(x, front, end):\n",
    "    if end > 0:\n",
    "        return x[front:-end]\n",
    "    else:\n",
    "        return x[front:]\n",
    "\n",
    "import statsmodels.tsa.tsatools as tsat\n",
    "mlag = tsat.lagmat\n",
    "\n",
    "def mlag_(x, maxlag):\n",
    "    '''return all lags up to maxlag\n",
    "    '''\n",
    "    return x[:-lag]\n",
    "\n",
    "def lag(x, lag):\n",
    "    return x[:-lag]\n",
    "\n",
    "def detrend(y, order):\n",
    "    if order == -1:\n",
    "        return y\n",
    "    return OLS(y, np.vander(np.linspace(-1, 1, len(y)), order + 1)).fit().resid\n",
    "\n",
    "def resid(y, x):\n",
    "    r = y - np.dot(x, np.dot(np.linalg.pinv(x), y))\n",
    "    return r\n",
    "\n",
    "\n",
    "\n",
    "\n",
    "def coint_johansen(x, p, k, print_on_console=True):\n",
    "\n",
    "    #    % error checking on inputs\n",
    "    #    if (nargin ~= 3)\n",
    "    #     error('Wrong # of inputs to johansen')\n",
    "    #    end\n",
    "    nobs, m = x.shape\n",
    "\n",
    "    # why this?  f is detrend transformed series, p is detrend data\n",
    "    if (p > -1):\n",
    "        f = 0\n",
    "    else:\n",
    "        f = p\n",
    "\n",
    "    x = detrend(x, p)\n",
    "    dx = tdiff(x, 1, axis=0)\n",
    "    # dx    = trimr(dx,1,0)\n",
    "    z = mlag(dx, k)  # [k-1:]\n",
    "#    print z.shape\n",
    "    z = trimr(z, k, 0)\n",
    "    z = detrend(z, f)\n",
    "#    print dx.shape\n",
    "    dx = trimr(dx, k, 0)\n",
    "\n",
    "    dx = detrend(dx, f)\n",
    "    # r0t   = dx - z*(z\\dx)\n",
    "    r0t = resid(dx, z)  # diff on lagged diffs\n",
    "    # lx = trimr(lag(x,k),k,0)\n",
    "    lx = lag(x, k)\n",
    "    lx = trimr(lx, 1, 0)\n",
    "    dx = detrend(lx, f)\n",
    "#    print 'rkt', dx.shape, z.shape\n",
    "    # rkt   = dx - z*(z\\dx)\n",
    "    rkt = resid(dx, z)  # level on lagged diffs\n",
    "    skk = np.dot(rkt.T, rkt) / rows(rkt)\n",
    "    sk0 = np.dot(rkt.T, r0t) / rows(rkt)\n",
    "    s00 = np.dot(r0t.T, r0t) / rows(r0t)\n",
    "    sig = np.dot(sk0, np.dot(inv(s00), (sk0.T)))\n",
    "    tmp = inv(skk)\n",
    "    # du, au = eig(np.dot(tmp, sig))\n",
    "    au, du = eig(np.dot(tmp, sig))  # au is eval, du is evec\n",
    "    # orig = np.dot(tmp, sig)\n",
    "\n",
    "    # % Normalize the eigen vectors such that (du'skk*du) = I\n",
    "    temp = inv(chol(np.dot(du.T, np.dot(skk, du))))\n",
    "    dt = np.dot(du, temp)\n",
    "\n",
    "\n",
    "    # JP: the next part can be done much  easier\n",
    "\n",
    "    # %      NOTE: At this point, the eigenvectors are aligned by column. To\n",
    "    # %            physically move the column elements using the MATLAB sort,\n",
    "    # %            take the transpose to put the eigenvectors across the row\n",
    "\n",
    "    # dt = transpose(dt)\n",
    "\n",
    "    # % sort eigenvalues and vectors\n",
    "\n",
    "    # au, auind = np.sort(diag(au))\n",
    "    auind = np.argsort(au)\n",
    "    # a = flipud(au)\n",
    "    aind = flipud(auind)\n",
    "    a = au[aind]\n",
    "    # d = dt[aind,:]\n",
    "    d = dt[:, aind]\n",
    "\n",
    "    # %NOTE: The eigenvectors have been sorted by row based on auind and moved to array \"d\".\n",
    "    # %      Put the eigenvectors back in column format after the sort by taking the\n",
    "    # %      transpose of \"d\". Since the eigenvectors have been physically moved, there is\n",
    "    # %      no need for aind at all. To preserve existing programming, aind is reset back to\n",
    "    # %      1, 2, 3, ....\n",
    "\n",
    "    # d  =  transpose(d)\n",
    "    # test = np.dot(transpose(d), np.dot(skk, d))\n",
    "\n",
    "    # %EXPLANATION:  The MATLAB sort function sorts from low to high. The flip realigns\n",
    "    # %auind to go from the largest to the smallest eigenvalue (now aind). The original procedure\n",
    "    # %physically moved the rows of dt (to d) based on the alignment in aind and then used\n",
    "    # %aind as a column index to address the eigenvectors from high to low. This is a double\n",
    "    # %sort. If you wanted to extract the eigenvector corresponding to the largest eigenvalue by,\n",
    "    # %using aind as a reference, you would get the correct eigenvector, but with sorted\n",
    "    # %coefficients and, therefore, any follow-on calculation would seem to be in error.\n",
    "    # %If alternative programming methods are used to evaluate the eigenvalues, e.g. Frame method\n",
    "    # %followed by a root extraction on the characteristic equation, then the roots can be\n",
    "    # %quickly sorted. One by one, the corresponding eigenvectors can be generated. The resultant\n",
    "    # %array can be operated on using the Cholesky transformation, which enables a unit\n",
    "    # %diagonalization of skk. But nowhere along the way are the coefficients within the\n",
    "    # %eigenvector array ever changed. The final value of the \"beta\" array using either method\n",
    "    # %should be the same.\n",
    "\n",
    "\n",
    "    # % Compute the trace and max eigenvalue statistics */\n",
    "    lr1 = zeros(m)\n",
    "    lr2 = zeros(m)\n",
    "    cvm = zeros((m, 3))\n",
    "    cvt = zeros((m, 3))\n",
    "    iota = ones(m)\n",
    "    t, junk = rkt.shape\n",
    "    for i in range(0, m):\n",
    "        tmp = trimr(log(iota - a), i , 0)\n",
    "        lr1[i] = -t * np.sum(tmp, 0)  # columnsum ?\n",
    "        # tmp = np.log(1-a)\n",
    "        # lr1[i] = -t * np.sum(tmp[i:])\n",
    "        lr2[i] = -t * log(1 - a[i])\n",
    "        cvm[i, :] = c_sja(m - i, p)\n",
    "        cvt[i, :] = c_sjt(m - i, p)\n",
    "        aind[i] = i\n",
    "    # end\n",
    "\n",
    "    result = Holder()\n",
    "    # % set up results structure\n",
    "    # estimation results, residuals\n",
    "    result.rkt = rkt\n",
    "    result.r0t = r0t\n",
    "    result.eig = a\n",
    "    result.evec = d  # transposed compared to matlab ?\n",
    "    result.lr1 = lr1\n",
    "    result.lr2 = lr2\n",
    "    result.cvt = cvt\n",
    "    result.cvm = cvm\n",
    "    result.ind = aind\n",
    "    result.meth = 'johansen'\n",
    "\n",
    "    if print_on_console == True:\n",
    "        print ('--------------------------------------------------')\n",
    "        print ('--> Trace Statistics')\n",
    "        print ('variable statistic Crit-90% Crit-95%  Crit-99%')\n",
    "        for i in range(len(result.lr1)):\n",
    "            print ('r =', i, '\\t', round(result.lr1[i], 4), result.cvt[i, 0], result.cvt[i, 1], result.cvt[i, 2])\n",
    "        print ('--------------------------------------------------')\n",
    "        print ('--> Eigen Statistics')\n",
    "        print ('variable statistic Crit-90% Crit-95%  Crit-99%')\n",
    "        for i in range(len(result.lr2)):\n",
    "            print ('r =', i, '\\t', round(result.lr2[i], 4), result.cvm[i, 0], result.cvm[i, 1], result.cvm[i, 2])\n",
    "        print ('--------------------------------------------------')\n",
    "        print ('eigenvectors:\\n', result.evec)\n",
    "        print ('--------------------------------------------------')\n",
    "        print ('eigenvalues:\\n', result.eig)\n",
    "        print ('--------------------------------------------------')\n",
    "\n",
    "\n",
    "    return result\n",
    "\n",
    "def c_sjt(n, p):\n",
    "\n",
    "# PURPOSE: find critical values for Johansen trace statistic\n",
    "# ------------------------------------------------------------\n",
    "# USAGE:  jc = c_sjt(n,p)\n",
    "# where:    n = dimension of the VAR system\n",
    "#               NOTE: routine doesn't work for n > 12\n",
    "#           p = order of time polynomial in the null-hypothesis\n",
    "#                 p = -1, no deterministic part\n",
    "#                 p =  0, for constant term\n",
    "#                 p =  1, for constant plus time-trend\n",
    "#                 p >  1  returns no critical values\n",
    "# ------------------------------------------------------------\n",
    "# RETURNS: a (3x1) vector of percentiles for the trace\n",
    "#          statistic for [90# 95# 99#]\n",
    "# ------------------------------------------------------------\n",
    "# NOTES: for n > 12, the function returns a (3x1) vector of zeros.\n",
    "#        The values returned by the function were generated using\n",
    "#        a method described in MacKinnon (1996), using his FORTRAN\n",
    "#        program johdist.f\n",
    "# ------------------------------------------------------------\n",
    "\n",
    "\n",
    "\n",
    "    jcp0 = ((2.9762, 4.1296, 6.9406),\n",
    "            (10.4741, 12.3212, 16.3640),\n",
    "            (21.7781, 24.2761, 29.5147),\n",
    "            (37.0339, 40.1749, 46.5716),\n",
    "            (56.2839, 60.0627, 67.6367),\n",
    "            (79.5329, 83.9383, 92.7136),\n",
    "            (106.7351, 111.7797, 121.7375),\n",
    "            (137.9954, 143.6691, 154.7977),\n",
    "            (173.2292, 179.5199, 191.8122),\n",
    "            (212.4721, 219.4051, 232.8291),\n",
    "            (255.6732, 263.2603, 277.9962),\n",
    "            (302.9054, 311.1288, 326.9716))\n",
    "\n",
    "\n",
    "    jcp1 = ((2.7055, 3.8415, 6.6349),\n",
    "            (13.4294, 15.4943, 19.9349),\n",
    "            (27.0669, 29.7961, 35.4628),\n",
    "            (44.4929, 47.8545, 54.6815),\n",
    "            (65.8202, 69.8189, 77.8202),\n",
    "            (91.1090, 95.7542, 104.9637),\n",
    "            (120.3673, 125.6185, 135.9825),\n",
    "            (153.6341, 159.5290, 171.0905),\n",
    "            (190.8714, 197.3772, 210.0366),\n",
    "            (232.1030, 239.2468, 253.2526),\n",
    "            (277.3740, 285.1402, 300.2821),\n",
    "            (326.5354, 334.9795, 351.2150))\n",
    "\n",
    "    jcp2 = ((2.7055, 3.8415, 6.6349),\n",
    "            (16.1619, 18.3985, 23.1485),\n",
    "            (32.0645, 35.0116, 41.0815),\n",
    "            (51.6492, 55.2459, 62.5202),\n",
    "            (75.1027, 79.3422, 87.7748),\n",
    "            (102.4674, 107.3429, 116.9829),\n",
    "            (133.7852, 139.2780, 150.0778),\n",
    "            (169.0618, 175.1584, 187.1891),\n",
    "            (208.3582, 215.1268, 228.2226),\n",
    "            (251.6293, 259.0267, 273.3838),\n",
    "            (298.8836, 306.8988, 322.4264),\n",
    "            (350.1125, 358.7190, 375.3203))\n",
    "\n",
    "\n",
    "\n",
    "    if (p > 1) or (p < -1):\n",
    "        jc = (0, 0, 0)\n",
    "    elif (n > 12) or (n < 1):\n",
    "        jc = (0, 0, 0)\n",
    "    elif p == -1:\n",
    "        jc = jcp0[n - 1]\n",
    "    elif p == 0:\n",
    "        jc = jcp1[n - 1]\n",
    "    elif p == 1:\n",
    "        jc = jcp2[n - 1]\n",
    "\n",
    "\n",
    "\n",
    "    return jc\n",
    "\n",
    "def c_sja(n, p):\n",
    "\n",
    "\n",
    "\n",
    "\n",
    "\n",
    "    jcp0 = ((2.9762, 4.1296, 6.9406),\n",
    "            (9.4748, 11.2246, 15.0923),\n",
    "            (15.7175, 17.7961, 22.2519),\n",
    "            (21.8370, 24.1592, 29.0609),\n",
    "            (27.9160, 30.4428, 35.7359),\n",
    "            (33.9271, 36.6301, 42.2333),\n",
    "            (39.9085, 42.7679, 48.6606),\n",
    "            (45.8930, 48.8795, 55.0335),\n",
    "            (51.8528, 54.9629, 61.3449),\n",
    "            (57.7954, 61.0404, 67.6415),\n",
    "            (63.7248, 67.0756, 73.8856),\n",
    "            (69.6513, 73.0946, 80.0937))\n",
    "\n",
    "    jcp1 = ((2.7055, 3.8415, 6.6349),\n",
    "            (12.2971, 14.2639, 18.5200),\n",
    "            (18.8928, 21.1314, 25.8650),\n",
    "            (25.1236, 27.5858, 32.7172),\n",
    "            (31.2379, 33.8777, 39.3693),\n",
    "            (37.2786, 40.0763, 45.8662),\n",
    "            (43.2947, 46.2299, 52.3069),\n",
    "            (49.2855, 52.3622, 58.6634),\n",
    "            (55.2412, 58.4332, 64.9960),\n",
    "            (61.2041, 64.5040, 71.2525),\n",
    "            (67.1307, 70.5392, 77.4877),\n",
    "            (73.0563, 76.5734, 83.7105))\n",
    "\n",
    "    jcp2 = ((2.7055, 3.8415, 6.6349),\n",
    "            (15.0006, 17.1481, 21.7465),\n",
    "            (21.8731, 24.2522, 29.2631),\n",
    "            (28.2398, 30.8151, 36.1930),\n",
    "            (34.4202, 37.1646, 42.8612),\n",
    "            (40.5244, 43.4183, 49.4095),\n",
    "            (46.5583, 49.5875, 55.8171),\n",
    "            (52.5858, 55.7302, 62.1741),\n",
    "            (58.5316, 61.8051, 68.5030),\n",
    "            (64.5292, 67.9040, 74.7434),\n",
    "            (70.4630, 73.9355, 81.0678),\n",
    "            (76.4081, 79.9878, 87.2395))\n",
    "\n",
    "\n",
    "    if (p > 1) or (p < -1):\n",
    "        jc = (0, 0, 0)\n",
    "    elif (n > 12) or (n < 1):\n",
    "        jc = (0, 0, 0)\n",
    "    elif p == -1:\n",
    "        jc = jcp0[n - 1]\n",
    "    elif p == 0:\n",
    "        jc = jcp1[n - 1]\n",
    "    elif p == 1:\n",
    "        jc = jcp2[n - 1]\n",
    "\n",
    "\n",
    "    return jc\n"
   ]
  },
  {
   "cell_type": "code",
   "execution_count": 102,
   "id": "7ee00276",
   "metadata": {
    "scrolled": true
   },
   "outputs": [
    {
     "name": "stdout",
     "output_type": "stream",
     "text": [
      "--------------------------------------------------\n",
      "--> Trace Statistics\n",
      "variable statistic Crit-90% Crit-95%  Crit-99%\n",
      "r = 0 \t 63.6003 13.4294 15.4943 19.9349\n",
      "r = 1 \t 21.204 2.7055 3.8415 6.6349\n",
      "--------------------------------------------------\n",
      "--> Eigen Statistics\n",
      "variable statistic Crit-90% Crit-95%  Crit-99%\n",
      "r = 0 \t 42.3963 12.2971 14.2639 18.52\n",
      "r = 1 \t 21.204 2.7055 3.8415 6.6349\n",
      "--------------------------------------------------\n",
      "eigenvectors:\n",
      " [[ 0.31836521 -0.56781773]\n",
      " [-0.73404073 -0.06285246]]\n",
      "--------------------------------------------------\n",
      "eigenvalues:\n",
      " [0.58656558 0.35708914]\n",
      "--------------------------------------------------\n"
     ]
    },
    {
     "data": {
      "text/plain": [
       "<__main__.Holder at 0x7fd9b5cbe8e0>"
      ]
     },
     "execution_count": 102,
     "metadata": {},
     "output_type": "execute_result"
    }
   ],
   "source": [
    "#implement johansen test\n",
    "coint_johansen(df1,0,1)\n",
    "\n"
   ]
  },
  {
   "cell_type": "markdown",
   "id": "2ae1cef9",
   "metadata": {},
   "source": [
    "###### Trace Statistic \n",
    "The trace statistics let us know whether the sum of the eigenvalues is 0. \n",
    "\n",
    "-Null hypothesis: There is no cointegrating equation\n",
    "-Alternative hypothesis: The number of cointegrating relationships is at least one \n",
    "\n",
    "Critical value at 95% confidence level is 15.4943, smaller than trace statistic. \n",
    "\n",
    "Therefore the null hypothesis could be rejected.\n",
    "###### Eigen statistic\n",
    "The eigen statistics stores the eigenvalues in decreasing order of magnitude,which represent how strongly cointegrated the series are or how strong is the tendency to mean revert. \n",
    "\n",
    "-Null hypothesis: the cointegrating rank is k\n",
    "\n",
    "-Alter native hypothesis: cointegrating rank is k+1 \n",
    "\n",
    "In this case, as eigen statistic is 42.3993,larger than critical value at 95% confidence level of 14.2639, the eigen statistic for the null hypothesis is rejected.\n",
    "\n",
    "Therefore it could be concluded that two series are cointegrated. This indicate a statistically significant long run relationship between  FTSE growth and GDP growth."
   ]
  },
  {
   "cell_type": "markdown",
   "id": "2667cc38",
   "metadata": {},
   "source": [
    "### 3. Causality analysis"
   ]
  },
  {
   "cell_type": "markdown",
   "id": "85e97b6f",
   "metadata": {},
   "source": [
    "### 3.1. VAR (Vector autoregression) model & G-causality\n",
    "\n",
    "### 3.1.1. VAR model"
   ]
  },
  {
   "cell_type": "markdown",
   "id": "a1e25083",
   "metadata": {},
   "source": [
    "Since all time series are stationay and cointegrated,a Vector Autorgression model (VAR) could be implemented to discover causality relationship between the variables.\n",
    "\n",
    "#### i) Select  the Order(P) of VAR model\n",
    "To select the order the the model, we iteratively fit increasing orders of VAR model then choose the order giving a model with least AIC.\n"
   ]
  },
  {
   "cell_type": "code",
   "execution_count": 31,
   "id": "70f0d2cb",
   "metadata": {},
   "outputs": [
    {
     "name": "stdout",
     "output_type": "stream",
     "text": [
      "Lag Order = 1\n",
      "AIC :  3.1959722061925873\n",
      "BIC :  3.427623671267358\n",
      "FPE :  24.44141161916107\n",
      "HQIC:  3.2838604489203154 \n",
      "\n",
      "Lag Order = 2\n",
      "AIC :  3.150608326387128\n",
      "BIC :  3.5404418703262723\n",
      "FPE :  23.385712417565387\n",
      "HQIC:  3.297926992067326 \n",
      "\n",
      "Lag Order = 3\n",
      "AIC :  3.145100061343315\n",
      "BIC :  3.696207857597375\n",
      "FPE :  23.32590546280762\n",
      "HQIC:  3.352485627275162 \n",
      "\n",
      "Lag Order = 4\n",
      "AIC :  3.2859019402093423\n",
      "BIC :  4.0014572692702925\n",
      "FPE :  27.00774805218883\n",
      "HQIC:  3.5539532551199473 \n",
      "\n",
      "Lag Order = 5\n",
      "AIC :  3.3263110171723245\n",
      "BIC :  4.20956823439337\n",
      "FPE :  28.40359073859369\n",
      "HQIC:  3.6555804395109996 \n",
      "\n",
      "Lag Order = 6\n",
      "AIC :  3.3872935019301744\n",
      "BIC :  4.441587376518238\n",
      "FPE :  30.679768990034056\n",
      "HQIC:  3.7782764964642768 \n",
      "\n",
      "Lag Order = 7\n",
      "AIC :  3.4958154906581687\n",
      "BIC :  4.724559757421119\n",
      "FPE :  35.05589032180304\n",
      "HQIC:  3.948938401607748 \n",
      "\n",
      "Lag Order = 8\n",
      "AIC :  3.7136590709434856\n",
      "BIC :  5.1203440000300215\n",
      "FPE :  45.2378755217123\n",
      "HQIC:  4.229264732714017 \n",
      "\n",
      "Lag Order = 9\n",
      "AIC :  3.6604818494612763\n",
      "BIC :  5.24867059421161\n",
      "FPE :  45.30545889347306\n",
      "HQIC:  4.238812625827096 \n",
      "\n"
     ]
    },
    {
     "name": "stderr",
     "output_type": "stream",
     "text": [
      "/Users/nothingsgoodb/opt/anaconda3/lib/python3.9/site-packages/statsmodels/tsa/base/tsa_model.py:524: ValueWarning: No frequency information was provided, so inferred frequency BQ-DEC will be used.\n",
      "  warnings.warn('No frequency information was'\n"
     ]
    }
   ],
   "source": [
    "# Import Statsmodels\n",
    "from statsmodels.tsa.api import VAR\n",
    "from statsmodels.tools.eval_measures import rmse, aic\n",
    "\n",
    "\n",
    "model = VAR(df1)\n",
    "for i in [1,2,3,4,5,6,7,8,9]:\n",
    "    result = model.fit(i)\n",
    "    print('Lag Order =', i)\n",
    "    print('AIC : ', result.aic)\n",
    "    print('BIC : ', result.bic)\n",
    "    print('FPE : ', result.fpe)\n",
    "    print('HQIC: ', result.hqic, '\\n')"
   ]
  },
  {
   "cell_type": "markdown",
   "id": "0fbc051d",
   "metadata": {},
   "source": [
    "AIC drops to lowest(3.1451) at lag =3 then start to increase at lag =4. Therefore lag =3 will be sued for the model."
   ]
  },
  {
   "cell_type": "markdown",
   "id": "9e1d3a96",
   "metadata": {},
   "source": [
    "#### ii) Fit VAR model with selected lag"
   ]
  },
  {
   "cell_type": "code",
   "execution_count": 33,
   "id": "a1ebaf09",
   "metadata": {},
   "outputs": [
    {
     "data": {
      "text/plain": [
       "  Summary of Regression Results   \n",
       "==================================\n",
       "Model:                         VAR\n",
       "Method:                        OLS\n",
       "Date:           Wed, 05, Jan, 2022\n",
       "Time:                     14:30:22\n",
       "--------------------------------------------------------------------\n",
       "No. of Equations:         2.00000    BIC:                    3.69621\n",
       "Nobs:                     47.0000    HQIC:                   3.35249\n",
       "Log likelihood:          -193.290    FPE:                    23.3259\n",
       "AIC:                      3.14510    Det(Omega_mle):         17.6704\n",
       "--------------------------------------------------------------------\n",
       "Results for equation FTSE_growth\n",
       "=================================================================================\n",
       "                    coefficient       std. error           t-stat            prob\n",
       "---------------------------------------------------------------------------------\n",
       "const                  0.131937         0.373253            0.353           0.724\n",
       "L1.FTSE_growth         0.219066         0.174064            1.259           0.208\n",
       "L1.GDP_growth          0.040386         0.136556            0.296           0.767\n",
       "L2.FTSE_growth        -0.194891         0.165909           -1.175           0.240\n",
       "L2.GDP_growth          0.156304         0.146821            1.065           0.287\n",
       "L3.FTSE_growth        -0.068070         0.158792           -0.429           0.668\n",
       "L3.GDP_growth          0.001108         0.132866            0.008           0.993\n",
       "=================================================================================\n",
       "\n",
       "Results for equation GDP_growth\n",
       "=================================================================================\n",
       "                    coefficient       std. error           t-stat            prob\n",
       "---------------------------------------------------------------------------------\n",
       "const                  1.703608         0.492466            3.459           0.001\n",
       "L1.FTSE_growth         0.323287         0.229658            1.408           0.159\n",
       "L1.GDP_growth         -0.580399         0.180170           -3.221           0.001\n",
       "L2.FTSE_growth        -0.070959         0.218898           -0.324           0.746\n",
       "L2.GDP_growth         -0.321051         0.193713           -1.657           0.097\n",
       "L3.FTSE_growth        -0.057486         0.209508           -0.274           0.784\n",
       "L3.GDP_growth         -0.112749         0.175302           -0.643           0.520\n",
       "=================================================================================\n",
       "\n",
       "Correlation matrix of residuals\n",
       "               FTSE_growth  GDP_growth\n",
       "FTSE_growth       1.000000    0.561417\n",
       "GDP_growth        0.561417    1.000000\n",
       "\n"
      ]
     },
     "execution_count": 33,
     "metadata": {},
     "output_type": "execute_result"
    }
   ],
   "source": [
    "\n",
    "model_fitted = model.fit(3)\n",
    "model_fitted.summary()"
   ]
  },
  {
   "cell_type": "markdown",
   "id": "bef79797",
   "metadata": {},
   "source": [
    "#### iii) Serial Correlation of Residuals test \n",
    "Durbin-Watson test is conducted to test if here is any correlation left in the residuals.\n",
    "If so, there is still pattern in the time series that is left to be explained by the model.\n",
    "In that case, it is necessary to  either:\n",
    "+ increase the order of the model or\n",
    "+ induce more predictors into the system or \n",
    "+ look for a different algorithm to model the time series\n",
    " \n",
    "The value of Durbin-Watson statistic can vary between 0 and 4.\n",
    "+ The closer it is to the value 2, then there is no significant serial correlation. \n",
    "+ The closer to 0, there is a positive serial correlation, and \n",
    "+ The closer it is to 4 implies negative serial correlation."
   ]
  },
  {
   "cell_type": "code",
   "execution_count": 36,
   "id": "8fa0c461",
   "metadata": {},
   "outputs": [
    {
     "name": "stdout",
     "output_type": "stream",
     "text": [
      "FTSE_growth : 2.07\n",
      "GDP_growth : 2.04\n"
     ]
    }
   ],
   "source": [
    "\n",
    "from statsmodels.stats.stattools import durbin_watson\n",
    "out = durbin_watson(model_fitted.resid)\n",
    "\n",
    "for col, val in zip(df1.columns, out):\n",
    "    print(col, ':', round(val, 2))"
   ]
  },
  {
   "cell_type": "markdown",
   "id": "9d8aab74",
   "metadata": {},
   "source": [
    "The statistic value is close to 2 so thetr is no serial correlation need to be concerned about here."
   ]
  },
  {
   "cell_type": "markdown",
   "id": "36467665",
   "metadata": {},
   "source": [
    "#### iv) Equation from VAR outcome \n",
    "\n",
    "+ GDP_growth =0.323287x L1.FTSE_growth -0.070959xL2.FTSE_growth-0.321051x L2.GDP_growth -0.057486x L3.FTSE_growth -0.112749x L3.GDP_growth  (1)\n",
    "\n",
    "\n",
    "+ FTSE_growth= 0.131937+0.219066x L1.FTSE_growth+0.040386x L1.GDP_growth -0.194891x L2.FTSE_growth-0.321051x L2.GDP_growth-0.057486xL3.FTSE_growth  -0.112749x L3.GDP_growth (2)\n",
    "\n",
    "Outcome from VAR models implies the existence of bidirectional causality between GDP growth and FTSE100 growth.\n",
    "It's worth noting that in Equation (1) the coefficients of FTSE growth and GDP growth at lag=2  is considerably larger compare to others.This indicates the growth of GDP at time t is significantly impacted by the growth of FTSE growth and its past avlue at time (t-2)"
   ]
  },
  {
   "cell_type": "markdown",
   "id": "d53807f8",
   "metadata": {},
   "source": [
    "### 3.1.2. Granger causality test\n",
    "\n",
    "Granger causality tets is conducted to test the long term causality between GDP growth and FTSE growth"
   ]
  },
  {
   "cell_type": "code",
   "execution_count": 27,
   "id": "a6185f2e",
   "metadata": {
    "scrolled": true
   },
   "outputs": [
    {
     "data": {
      "text/html": [
       "<div>\n",
       "<style scoped>\n",
       "    .dataframe tbody tr th:only-of-type {\n",
       "        vertical-align: middle;\n",
       "    }\n",
       "\n",
       "    .dataframe tbody tr th {\n",
       "        vertical-align: top;\n",
       "    }\n",
       "\n",
       "    .dataframe thead th {\n",
       "        text-align: right;\n",
       "    }\n",
       "</style>\n",
       "<table border=\"1\" class=\"dataframe\">\n",
       "  <thead>\n",
       "    <tr style=\"text-align: right;\">\n",
       "      <th></th>\n",
       "      <th>FTSE_growth</th>\n",
       "      <th>GDP_growth</th>\n",
       "    </tr>\n",
       "    <tr>\n",
       "      <th>Date</th>\n",
       "      <th></th>\n",
       "      <th></th>\n",
       "    </tr>\n",
       "  </thead>\n",
       "  <tbody>\n",
       "    <tr>\n",
       "      <th>2009-06-30</th>\n",
       "      <td>2.4</td>\n",
       "      <td>0.3</td>\n",
       "    </tr>\n",
       "    <tr>\n",
       "      <th>2009-09-30</th>\n",
       "      <td>4.4</td>\n",
       "      <td>0.8</td>\n",
       "    </tr>\n",
       "    <tr>\n",
       "      <th>2009-12-31</th>\n",
       "      <td>4.6</td>\n",
       "      <td>-0.5</td>\n",
       "    </tr>\n",
       "    <tr>\n",
       "      <th>2010-03-31</th>\n",
       "      <td>1.6</td>\n",
       "      <td>1.6</td>\n",
       "    </tr>\n",
       "    <tr>\n",
       "      <th>2010-06-30</th>\n",
       "      <td>-0.6</td>\n",
       "      <td>1.7</td>\n",
       "    </tr>\n",
       "  </tbody>\n",
       "</table>\n",
       "</div>"
      ],
      "text/plain": [
       "            FTSE_growth  GDP_growth\n",
       "Date                               \n",
       "2009-06-30          2.4         0.3\n",
       "2009-09-30          4.4         0.8\n",
       "2009-12-31          4.6        -0.5\n",
       "2010-03-31          1.6         1.6\n",
       "2010-06-30         -0.6         1.7"
      ]
     },
     "execution_count": 27,
     "metadata": {},
     "output_type": "execute_result"
    }
   ],
   "source": [
    "df1.head()"
   ]
  },
  {
   "cell_type": "code",
   "execution_count": 28,
   "id": "f4772f2c",
   "metadata": {},
   "outputs": [],
   "source": [
    "#implement Granger causality test\n",
    "from statsmodels.tsa.stattools import grangercausalitytests\n",
    "maxlag=12\n",
    "test = 'ssr_chi2test'\n",
    "def grangers_causation_matrix(data, variables, test='ssr_chi2test', verbose=False):    \n",
    "    \"\"\"Check Granger Causality of all possible combinations of the Time series.\n",
    "    The rows are the response variable, columns are predictors. The values in the table \n",
    "    are the P-Values. P-Values lesser than the significance level (0.05), implies \n",
    "    the Null Hypothesis that the coefficients of the corresponding past values is \n",
    "    zero, that is, the X does not cause Y can be rejected.\n",
    "\n",
    "    data      : pandas dataframe containing the time series variables\n",
    "    variables : list containing names of the time series variables.\n",
    "    \"\"\"\n",
    "    df1 = pd.DataFrame(np.zeros((len(variables), len(variables))), columns=variables, index=variables)\n",
    "    for c in df1.columns:\n",
    "        for r in df1.index:\n",
    "            test_result = grangercausalitytests(data[[r, c]], maxlag=maxlag, verbose=False)\n",
    "            p_values = [round(test_result[i+1][0][test][1],4) for i in range(maxlag)]\n",
    "            if verbose: print(f'Y = {r}, X = {c}, P Values = {p_values}')\n",
    "            min_p_value = np.min(p_values)\n",
    "            df1.loc[r, c] = min_p_value\n",
    "    df1.columns = [var + '_x' for var in variables]\n",
    "    df1.index = [var + '_y' for var in variables]\n",
    "    return df1\n",
    "\n",
    "    \n"
   ]
  },
  {
   "cell_type": "code",
   "execution_count": 29,
   "id": "0ad0452e",
   "metadata": {
    "scrolled": true
   },
   "outputs": [
    {
     "data": {
      "text/html": [
       "<div>\n",
       "<style scoped>\n",
       "    .dataframe tbody tr th:only-of-type {\n",
       "        vertical-align: middle;\n",
       "    }\n",
       "\n",
       "    .dataframe tbody tr th {\n",
       "        vertical-align: top;\n",
       "    }\n",
       "\n",
       "    .dataframe thead th {\n",
       "        text-align: right;\n",
       "    }\n",
       "</style>\n",
       "<table border=\"1\" class=\"dataframe\">\n",
       "  <thead>\n",
       "    <tr style=\"text-align: right;\">\n",
       "      <th></th>\n",
       "      <th>FTSE_growth_x</th>\n",
       "      <th>GDP_growth_x</th>\n",
       "    </tr>\n",
       "  </thead>\n",
       "  <tbody>\n",
       "    <tr>\n",
       "      <th>FTSE_growth_y</th>\n",
       "      <td>1.0000</td>\n",
       "      <td>0.0028</td>\n",
       "    </tr>\n",
       "    <tr>\n",
       "      <th>GDP_growth_y</th>\n",
       "      <td>0.0185</td>\n",
       "      <td>1.0000</td>\n",
       "    </tr>\n",
       "  </tbody>\n",
       "</table>\n",
       "</div>"
      ],
      "text/plain": [
       "               FTSE_growth_x  GDP_growth_x\n",
       "FTSE_growth_y         1.0000        0.0028\n",
       "GDP_growth_y          0.0185        1.0000"
      ]
     },
     "execution_count": 29,
     "metadata": {},
     "output_type": "execute_result"
    }
   ],
   "source": [
    "grangers_causation_matrix(df1, variables = df1.columns, test='ssr_chi2test', verbose=False)    "
   ]
  },
  {
   "cell_type": "markdown",
   "id": "333c76ef",
   "metadata": {},
   "source": [
    "It can be observed that p-value of predictive values x is 0.0028< 0.05(critical value at 95% confidence). \n",
    "\n",
    "Therefore the null hypothesis is rejected. GDP growth granger causes FTSE growth.\n",
    "\n",
    "On the other hand  p-value of 0.0185<0.05 also indicates that  FTSE growth Granger causes GDP growth.\n",
    "\n",
    "Thus, it is obvious that these two time series interchangeably causing each other.\n"
   ]
  },
  {
   "cell_type": "markdown",
   "id": "1dcc74ab",
   "metadata": {},
   "source": [
    "### 3. 2. Transfer entrophy method\n"
   ]
  },
  {
   "cell_type": "code",
   "execution_count": 11,
   "id": "00330333",
   "metadata": {},
   "outputs": [
    {
     "name": "stdout",
     "output_type": "stream",
     "text": [
      "Requirement already satisfied: PyIF in /Users/nothingsgoodb/opt/anaconda3/lib/python3.9/site-packages (0.1)\n",
      "Note: you may need to restart the kernel to use updated packages.\n"
     ]
    }
   ],
   "source": [
    "pip install PyIF"
   ]
  },
  {
   "cell_type": "code",
   "execution_count": 12,
   "id": "19af9bc2",
   "metadata": {
    "scrolled": true
   },
   "outputs": [
    {
     "name": "stdout",
     "output_type": "stream",
     "text": [
      "\n",
      "Usage:   \n",
      "  /Users/nothingsgoodb/opt/anaconda3/bin/python -m pip install [options] <requirement specifier> [package-index-options] ...\n",
      "  /Users/nothingsgoodb/opt/anaconda3/bin/python -m pip install [options] -r <requirements file> [package-index-options] ...\n",
      "  /Users/nothingsgoodb/opt/anaconda3/bin/python -m pip install [options] [-e] <vcs project url> ...\n",
      "  /Users/nothingsgoodb/opt/anaconda3/bin/python -m pip install [options] [-e] <local project path> ...\n",
      "  /Users/nothingsgoodb/opt/anaconda3/bin/python -m pip install [options] <archive url/path> ...\n",
      "\n",
      "-e option requires 1 argument\n",
      "Note: you may need to restart the kernel to use updated packages.\n"
     ]
    }
   ],
   "source": [
    "pip install -e "
   ]
  },
  {
   "cell_type": "code",
   "execution_count": 49,
   "id": "f7cdec25",
   "metadata": {},
   "outputs": [],
   "source": [
    "from PyIF import te_compute as te\n",
    "import numpy as np"
   ]
  },
  {
   "cell_type": "code",
   "execution_count": 39,
   "id": "0703ec99",
   "metadata": {},
   "outputs": [
    {
     "data": {
      "text/plain": [
       "numpy.ndarray"
      ]
     },
     "execution_count": 39,
     "metadata": {},
     "output_type": "execute_result"
    }
   ],
   "source": [
    "#convert series from dataframe to array\n",
    "FTSEgrowth = df1['FTSE_growth'].values\n",
    "GDPgrowth =df1['GDP_growth'].values\n",
    "type(GDPgrowth)\n",
    "type(FTSEgrowth)\n",
    "\n",
    "\n",
    "\n"
   ]
  },
  {
   "cell_type": "code",
   "execution_count": 50,
   "id": "85eb09d1",
   "metadata": {},
   "outputs": [
    {
     "name": "stdout",
     "output_type": "stream",
     "text": [
      "[  0.3   0.8  -0.5   1.6   1.7   0.6   0.6   2.2  -0.8   1.    1.    0.6\n",
      "   0.4   2.    0.4   0.6   1.    2.1   1.    1.1   0.9   1.3   0.2   0.8\n",
      "   1.4   0.2   0.4   1.4   1.6   0.9   1.4   1.    0.5   0.8   1.5   0.6\n",
      "   0.9   1.1   0.7   1.2   0.8   1.2  -0.1  -1.  -13.1  11.9   1.6   0.7\n",
      "   3.4   1.6] [ 2.4  4.4  4.6  1.6 -0.6 -0.3  3.5  1.4 -0.3 -3.4 -0.3  3.  -2.1  1.5\n",
      "  0.7  3.3  0.9  0.6  0.5  0.4  0.5  0.  -1.6  1.7  0.8 -3.4 -0.9 -2.\n",
      "  1.5  3.8  1.   2.1  0.7 -0.1  0.6 -0.7  1.1  0.  -3.3  0.4  1.7  0.1\n",
      " -0.3 -2.8 -5.9  0.5  0.9  3.2  2.2  0.4]\n"
     ]
    }
   ],
   "source": [
    "print(GDPgrowth, FTSEgrowth)"
   ]
  },
  {
   "cell_type": "code",
   "execution_count": 64,
   "id": "34124b9f",
   "metadata": {},
   "outputs": [
    {
     "name": "stdout",
     "output_type": "stream",
     "text": [
      "0.2086437445014666\n"
     ]
    }
   ],
   "source": [
    "TE = te.te_compute(FTSEgrowth, GDPgrowth, k=1, embedding=1, safetyCheck=False, GPU=False)\n",
    "\n",
    "print(TE)"
   ]
  },
  {
   "cell_type": "markdown",
   "id": "2e31cf86",
   "metadata": {},
   "source": [
    "This means that the history of the X process has 0.209 bits of additional information for predicting the next value of Y. (i.e., it provides information about the future of Y, in addition to what we know from the history of Y).\n",
    "\n",
    "Since it is non-zero, it can be concluded that X(FTSE growth) influences Y(GDP growth) in some way.\n",
    "\n"
   ]
  },
  {
   "cell_type": "code",
   "execution_count": 56,
   "id": "10c5f4e3",
   "metadata": {},
   "outputs": [],
   "source": [
    "#calculate entrophy of Y(GDP growth)\n",
    "import scipy.stats\n",
    "\n",
    "def ent(data):\n",
    "    \"\"\"Calculates entropy of the passed `pd.Series`\n",
    "    \"\"\"\n",
    "    p_data = data.value_counts()           # counts occurrence of each value\n",
    "    entropy = scipy.stats.entropy(p_data)  # get entropy from counts\n",
    "    return entropy"
   ]
  },
  {
   "cell_type": "code",
   "execution_count": 58,
   "id": "10743f8c",
   "metadata": {},
   "outputs": [
    {
     "data": {
      "text/plain": [
       "3.0596745643122922"
      ]
     },
     "execution_count": 58,
     "metadata": {},
     "output_type": "execute_result"
    }
   ],
   "source": [
    "data=df1['GDP_growth'] \n",
    "type(data) \n",
    "ent(data)"
   ]
  },
  {
   "cell_type": "code",
   "execution_count": 60,
   "id": "3a687305",
   "metadata": {},
   "outputs": [
    {
     "name": "stdout",
     "output_type": "stream",
     "text": [
      "0.06819148249786572\n"
     ]
    }
   ],
   "source": [
    "#normalized TE by devidiing it by maximum value, which is Y entrophy\n",
    "TE_normalized =TE/ent(data)\n",
    "print(TE_normalized)"
   ]
  },
  {
   "cell_type": "markdown",
   "id": "1414461e",
   "metadata": {},
   "source": [
    "It can be seen the TE from FTSEgrowth to GDP growth is not significant, only about 6.8%"
   ]
  },
  {
   "cell_type": "code",
   "execution_count": null,
   "id": "2e62bd5a",
   "metadata": {},
   "outputs": [],
   "source": []
  }
 ],
 "metadata": {
  "kernelspec": {
   "display_name": "Python 3 (ipykernel)",
   "language": "python",
   "name": "python3"
  },
  "language_info": {
   "codemirror_mode": {
    "name": "ipython",
    "version": 3
   },
   "file_extension": ".py",
   "mimetype": "text/x-python",
   "name": "python",
   "nbconvert_exporter": "python",
   "pygments_lexer": "ipython3",
   "version": "3.9.7"
  }
 },
 "nbformat": 4,
 "nbformat_minor": 5
}
